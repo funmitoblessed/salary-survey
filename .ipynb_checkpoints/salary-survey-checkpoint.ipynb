{
 "cells": [
  {
   "cell_type": "markdown",
   "id": "6460068f-37d7-4f0d-805a-2185d02b0e98",
   "metadata": {},
   "source": [
    "This is a data analysis project that will analyse live data from an annual salary survey"
   ]
  },
  {
   "cell_type": "markdown",
   "id": "24ee3db6-d892-406a-a29c-74ae91387ae2",
   "metadata": {},
   "source": [
    "### Data Preparation"
   ]
  },
  {
   "cell_type": "code",
   "execution_count": 1,
   "id": "14d54124-8757-4ac0-b10c-ad563ed213b9",
   "metadata": {},
   "outputs": [],
   "source": [
    "# Import Libraries\n",
    "import matplotlib.pyplot as plt\n",
    "import numpy as np\n",
    "import pandas as pd\n",
    "import plotly.express as px\n",
    "import plotly.graph_objects as go\n",
    "import seaborn as sns\n",
    "import requests"
   ]
  },
  {
   "cell_type": "markdown",
   "id": "3233bf9b-7c02-418e-952c-af9b09690a88",
   "metadata": {},
   "source": [
    "### Gathering"
   ]
  },
  {
   "cell_type": "code",
   "execution_count": 2,
   "id": "53a9a1ae-fa06-4d78-8cac-eef9d74c268d",
   "metadata": {},
   "outputs": [],
   "source": [
    "# Gather Data Needed for our analysis\n",
    "\n",
    "salary_survey = \"https://docs.google.com/spreadsheets/d/1TDwUr7yJHCsxsfFsynMhwhGWbhLWsGA44UQnAYCDsBE/edit#gid=0\"\n",
    "\n",
    "salary_survey_data = \"https://docs.google.com/spreadsheets/d/e/2PACX-1vT2FrRU6HHZg2meRv0RUAC8ck00t-5K5YKoDxv7uav99vFU0CE1SB3KNMWDfPPccBPcAbV_qEtVbVkd/pub?gid=0&single=true&output=csv\""
   ]
  },
  {
   "cell_type": "code",
   "execution_count": 5,
   "id": "11f696a9-cf58-4d5d-8e10-2fe05c76b2e0",
   "metadata": {},
   "outputs": [
    {
     "data": {
      "text/plain": [
       "200"
      ]
     },
     "execution_count": 5,
     "metadata": {},
     "output_type": "execute_result"
    }
   ],
   "source": [
    "# Use requests to get for the data\n",
    "r = requests.get(salary_survey_data)\n",
    "\n",
    "r.status_code"
   ]
  },
  {
   "cell_type": "code",
   "execution_count": 6,
   "id": "93533acb-632b-4a82-9782-9b6de9c7e9b8",
   "metadata": {},
   "outputs": [],
   "source": [
    "# Download and save the response into a csv file locally\n",
    "\n",
    "with open(\"salary_survey_data.csv\", mode='wb') as file:\n",
    "    file.write(r.content)"
   ]
  },
  {
   "cell_type": "code",
   "execution_count": 8,
   "id": "ab6191f0-9214-4d47-b4ce-24c885283b67",
   "metadata": {},
   "outputs": [
    {
     "data": {
      "text/plain": [
       "(27872, 18)"
      ]
     },
     "execution_count": 8,
     "metadata": {},
     "output_type": "execute_result"
    }
   ],
   "source": [
    "# Read the data into a Pandas DataFrame\n",
    "salary_df_local = pd.read_csv(\"salary_survey_data.csv\")\n",
    "\n",
    "# Get the shape of the dataset\n",
    "salary_df_local.shape"
   ]
  },
  {
   "cell_type": "code",
   "execution_count": 10,
   "id": "f7f25504-1a66-481f-8292-1acf8af2f3f8",
   "metadata": {},
   "outputs": [
    {
     "data": {
      "text/plain": [
       "(27872, 18)"
      ]
     },
     "execution_count": 10,
     "metadata": {},
     "output_type": "execute_result"
    }
   ],
   "source": [
    "# Read the data directly into a Pandas DataFrame\n",
    "salary_df = pd.read_csv(salary_survey_data)\n",
    "\n",
    "# Get the shape of the dataset\n",
    "salary_df.shape"
   ]
  }
 ],
 "metadata": {
  "kernelspec": {
   "display_name": "Python 3 (ipykernel)",
   "language": "python",
   "name": "python3"
  },
  "language_info": {
   "codemirror_mode": {
    "name": "ipython",
    "version": 3
   },
   "file_extension": ".py",
   "mimetype": "text/x-python",
   "name": "python",
   "nbconvert_exporter": "python",
   "pygments_lexer": "ipython3",
   "version": "3.9.12"
  }
 },
 "nbformat": 4,
 "nbformat_minor": 5
}
