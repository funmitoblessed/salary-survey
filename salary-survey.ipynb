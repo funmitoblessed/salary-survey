{
 "cells": [
  {
   "cell_type": "markdown",
   "id": "6460068f-37d7-4f0d-805a-2185d02b0e98",
   "metadata": {},
   "source": [
    "This is a data analysis project that will analyse live data from an annual salary survey"
   ]
  },
  {
   "cell_type": "code",
   "execution_count": null,
   "id": "a587d6ba-4855-4f8e-8277-d8a32d800133",
   "metadata": {},
   "outputs": [],
   "source": []
  }
 ],
 "metadata": {
  "kernelspec": {
   "display_name": "Python 3 (ipykernel)",
   "language": "python",
   "name": "python3"
  },
  "language_info": {
   "codemirror_mode": {
    "name": "ipython",
    "version": 3
   },
   "file_extension": ".py",
   "mimetype": "text/x-python",
   "name": "python",
   "nbconvert_exporter": "python",
   "pygments_lexer": "ipython3",
   "version": "3.9.12"
  }
 },
 "nbformat": 4,
 "nbformat_minor": 5
}
